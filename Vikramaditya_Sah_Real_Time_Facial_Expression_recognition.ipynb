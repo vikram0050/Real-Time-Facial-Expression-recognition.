{
  "cells": [
    {
      "cell_type": "markdown",
      "metadata": {
        "id": "view-in-github",
        "colab_type": "text"
      },
      "source": [
        "<a href=\"https://colab.research.google.com/github/vikram0050/Real-Time-Facial-Expression-recognition./blob/main/Vikramaditya_Sah_Real_Time_Facial_Expression_recognition.ipynb\" target=\"_parent\"><img src=\"https://colab.research.google.com/assets/colab-badge.svg\" alt=\"Open In Colab\"/></a>"
      ]
    },
    {
      "cell_type": "markdown",
      "source": [
        "#Project Introduction\n",
        "The Indian education landscape has been undergoing rapid changes for the past 10 years owing to the advancement of web-based learning services, specifically, eLearning platforms. Global E-learning is estimated to witness an 8X over the next 5 years to reach USD 2B in 2021. India is expected to grow with a CAGR of 44% crossing the 10M users mark in 2021. Although the market is growing on a rapid scale, there are major challenges associated with digital learning when compared with brick and mortar classrooms. One of many challenges is how to ensure quality learning for students. Digital platforms might overpower physical classrooms in terms of content quality but when it comes to understanding whether students are able to grasp the content in a live class scenario is yet an open-end challenge. In a physical classroom during a lecturing teacher can see the faces and assess the emotion of the class and tune their lecture accordingly, whether he is going fast or slow. He can identify students who need special attention. Digital classrooms are conducted via video telephony software program (exZoom) where it’s not possible for medium scale class (25-50) to see all students and access the mood. Because of this drawback, students are not focusing on content due to lack of surveillance. While digital platforms have limitations in terms of physical surveillance but it comes with the power of data and machines which can work for you. It provides data in the form of video, audio, and texts which can be analysed using deep learning algorithms. Deep learning backed system not only solves the surveillance issue, but it also removes the human bias from the system, and all information is no longer in the teacher’s brain rather translated in numbers that can be analysed and tracked."
      ],
      "metadata": {
        "id": "uttk9jb4FBdb"
      }
    },
    {
      "cell_type": "markdown",
      "source": [
        "**Problem Statements**\n",
        "\n",
        "\n",
        "We will solve the above-mentioned challenge by applying deep learning algorithms to live video data. The solution to this problem is by recognizing facial emotions.\n",
        "\n",
        "**Data Description**\n",
        "\n",
        "The data comes from the past Kaggle challenge \"Challenges in Representation Learning: Facial Expression Recognition Challenge\":\n",
        "\n",
        "https://www.kaggle.com/c/challenges-in-representation-learning-facial-expression-recognition-challenge\n",
        "\n",
        "The data consists of 48x48 pixel grayscale images of faces. The faces have been automatically registered so that the face is more or less centered and occupies about the same amount of space in each image. The dataset contains approximately 36K images. we have 7 categories.\n",
        "\n",
        "train\n",
        "    angry\n",
        "    disgust\n",
        "    fear\n",
        "    happy\n",
        "    neutral\n",
        "    sad\n",
        "    surprise\n",
        "\n",
        "validation\n",
        "    angry\n",
        "    disgust\n",
        "    fear\n",
        "    happy\n",
        "    neutral\n",
        "    sad\n",
        "    surprise\n",
        "80% of our images are contained inside the train folder, and the last 20% are inside the validation folder."
      ],
      "metadata": {
        "id": "dQwjNtWciXRE"
      }
    },
    {
      "cell_type": "code",
      "source": [
        "# mount google drive\n",
        "from google.colab import drive\n",
        "drive.mount('/content/drive')"
      ],
      "metadata": {
        "id": "NmiTEB6GFB7v"
      },
      "execution_count": null,
      "outputs": []
    },
    {
      "cell_type": "code",
      "source": [
        "# Importing all the required Libraries\n",
        "\n",
        "import tensorflow as tf \n",
        "from tensorflow import keras\n",
        "from tensorflow.keras import utils\n",
        "from tensorflow.keras.models import Sequential                                                            \n",
        "from tensorflow.keras import layers\n",
        "from tensorflow.keras.layers import Conv2D,MaxPooling2D, Dense, Dropout, Flatten, BatchNormalization,GlobalMaxPool2D,Activation,GlobalAveragePooling2D\n",
        "from tensorflow.keras.preprocessing.image import ImageDataGenerator\n",
        "from tensorflow.keras.optimizers import Adam\n",
        "import matplotlib.pyplot as plt\n",
        "from matplotlib.image import imread\n",
        "from tensorflow.keras.callbacks import EarlyStopping, ModelCheckpoint, ReduceLROnPlateau\n",
        "from tensorflow.keras.models import load_model\n",
        "from tensorflow.keras import Model\n",
        "from sklearn.metrics import confusion_matrix, classification_report\n",
        "from sklearn.metrics import accuracy_score\n",
        "from sklearn.model_selection import train_test_split\n",
        "from tensorflow.keras.utils import to_categorical\n",
        "from keras.preprocessing.image import load_img, img_to_array\n",
        "from keras.models import Sequential\n",
        "from keras.layers import Conv2D, MaxPooling2D, Dense, Dropout, Flatten\n",
        "from tensorflow.keras.optimizers import Adam\n",
        "from tensorflow.keras import optimizers\n",
        "import numpy as np \n",
        "import pandas as pd\n",
        "import cv2\n",
        "import os\n",
        "from sklearn.metrics import confusion_matrix\n",
        "import itertools\n",
        "print(\"Tensorflow version:\", tf.__version__)"
      ],
      "metadata": {
        "id": "tQorM6cQFFYG"
      },
      "execution_count": null,
      "outputs": []
    },
    {
      "cell_type": "markdown",
      "source": [
        "#Data exploration"
      ],
      "metadata": {
        "id": "VxP9IeHziyUn"
      }
    },
    {
      "cell_type": "code",
      "source": [
        "# Defining train and validation path\n",
        "train_path = '/content/drive/MyDrive/Real-Time-Facial-Expression-recognition/train'\n",
        "val_path = '/content/drive/MyDrive/Real-Time-Facial-Expression-recognition/validation'\n"
      ],
      "metadata": {
        "id": "fD2t87e3FTf-"
      },
      "execution_count": null,
      "outputs": []
    },
    {
      "cell_type": "code",
      "source": [
        "# data categories\n",
        "categories = os.listdir(train_path)\n",
        "print(categories)"
      ],
      "metadata": {
        "id": "AjIHBmCsFYf1"
      },
      "execution_count": null,
      "outputs": []
    },
    {
      "cell_type": "code",
      "source": [
        "# Training images\n",
        "total_train_images = 0\n",
        "for dir_ in os.listdir(train_path):\n",
        "    count = 0\n",
        "    for f in os.listdir(train_path+'/' + dir_+\"/\"):\n",
        "        count += 1\n",
        "        total_train_images += 1\n",
        "    print(f\"{dir_} has {count} number of images\")\n",
        "    \n",
        "print(f\"\\ntotal train images are {total_train_images}\")"
      ],
      "metadata": {
        "id": "B95XC2XRFdZi"
      },
      "execution_count": null,
      "outputs": []
    },
    {
      "cell_type": "code",
      "source": [
        "# Validation Images\n",
        "total_validation_images = 0\n",
        "for dir_ in os.listdir(val_path):\n",
        "    count = 0\n",
        "    for f in os.listdir(val_path+'/' + dir_+\"/\"):\n",
        "        count += 1\n",
        "        total_validation_images += 1\n",
        "    print(f\"{dir_} has {count} number of images\")\n",
        "    \n",
        "print(f\"\\ntotal validation images are {total_validation_images}\")"
      ],
      "metadata": {
        "id": "GSOhU6E6F6Nf"
      },
      "execution_count": null,
      "outputs": []
    },
    {
      "cell_type": "code",
      "source": [
        "# Creating a function for using for show some images from each categories\n",
        "def imageshow(category):\n",
        "  plt.figure(figsize= (8,8))\n",
        "  for i in range(1, 10, 1):\n",
        "      plt.subplot(3,3,i)\n",
        "      img = load_img(train_path+'/'+category+\"/\"+\n",
        "                    os.listdir(train_path + \"/\" + category)[i], target_size=(48,48))\n",
        "      plt.imshow(img)\n",
        "  plt.suptitle(category,fontsize=30)   \n",
        "  plt.show()"
      ],
      "metadata": {
        "id": "EQPyUowhGJzy"
      },
      "execution_count": null,
      "outputs": []
    },
    {
      "cell_type": "code",
      "source": [
        "#Showing some images from category neutral\n",
        "imageshow('neutral')"
      ],
      "metadata": {
        "id": "Su_Cd5QNGQlU"
      },
      "execution_count": null,
      "outputs": []
    },
    {
      "cell_type": "code",
      "source": [
        "#Showing some images from category angry\n",
        "imageshow('angry')"
      ],
      "metadata": {
        "id": "-_ml_IVzGToz"
      },
      "execution_count": null,
      "outputs": []
    },
    {
      "cell_type": "code",
      "source": [
        "#Showing some images from category sad\n",
        "imageshow('sad')"
      ],
      "metadata": {
        "id": "izJwzJxdGWwa"
      },
      "execution_count": null,
      "outputs": []
    },
    {
      "cell_type": "code",
      "source": [
        "#Showing some images from category surprise\n",
        "imageshow('surprise')"
      ],
      "metadata": {
        "id": "ZvXqrZpKGZjQ"
      },
      "execution_count": null,
      "outputs": []
    },
    {
      "cell_type": "code",
      "source": [
        "#Showing some images from category happy\n",
        "imageshow('happy')"
      ],
      "metadata": {
        "id": "OQktUe-uGcLB"
      },
      "execution_count": null,
      "outputs": []
    },
    {
      "cell_type": "code",
      "source": [
        "#Showing some images from category disgust\n",
        "imageshow('disgust')"
      ],
      "metadata": {
        "id": "NwacwdHSGez5"
      },
      "execution_count": null,
      "outputs": []
    },
    {
      "cell_type": "code",
      "source": [
        "#Showing some images from category fear\n",
        "imageshow('fear')"
      ],
      "metadata": {
        "id": "fKa2qpSZGhii"
      },
      "execution_count": null,
      "outputs": []
    },
    {
      "cell_type": "code",
      "source": [
        "# validation set images\n",
        "for category in categories:\n",
        "    plt.figure(figsize= (8,8))\n",
        "    for j in range(1,10,1):\n",
        "        \n",
        "        plt.subplot(3,3,j)\n",
        "        \n",
        "        img = load_img(val_path+'/'+category+\"/\"+\n",
        "                    os.listdir(val_path + \"/\" + category)[j], target_size=(48,48))\n",
        "        plt.imshow(img)\n",
        "    plt.suptitle(category,fontsize=30)\n",
        "    plt.show()\n"
      ],
      "metadata": {
        "id": "K30n0MraGj9h"
      },
      "execution_count": null,
      "outputs": []
    },
    {
      "cell_type": "code",
      "source": [
        "# i am resizing image size because vgg16 model is trained on 224,224,3 images\n",
        "img_size = 224\n",
        "#Taking batch size \n",
        "batch_size = 32\n",
        "\n",
        "# selecting colour mode as rgb as transfer learning is trained on rgb photos and we have grascaled images\n",
        "datagen_train = ImageDataGenerator(rescale=1./255)   \n",
        "\n",
        "# train generators\n",
        "train_generator = datagen_train.flow_from_directory(train_path,\n",
        "                                                  target_size=(img_size,img_size),\n",
        "                                                  batch_size=batch_size,\n",
        "                                                  shuffle=True,\n",
        "                                                  color_mode='rgb',\n",
        "                                                  class_mode='categorical')\n",
        "\n",
        "datagen_validation = ImageDataGenerator(rescale=1./255)\n",
        "\n",
        "# validation generators\n",
        "validation_generator = datagen_validation.flow_from_directory(val_path,\n",
        "                                                  target_size=(img_size,img_size),\n",
        "                                                  batch_size=batch_size,\n",
        "                                                  shuffle=False,\n",
        "                                                  color_mode='rgb',\n",
        "                                                  class_mode='categorical')"
      ],
      "metadata": {
        "id": "tpzg6phLGmo1"
      },
      "execution_count": null,
      "outputs": []
    },
    {
      "cell_type": "code",
      "source": [
        "from keras.applications.vgg16 import VGG16\n",
        "# creating a base model using VGG16 and loading the pretrained weights\n",
        "vgg = VGG16(input_shape=(224,224,3), weights='imagenet', include_top=False)"
      ],
      "metadata": {
        "id": "rZ1l1eJuGvAt"
      },
      "execution_count": null,
      "outputs": []
    },
    {
      "cell_type": "code",
      "source": [
        "# making all the layers except last 4 layers non trainable \n",
        "for layer in vgg.layers:\n",
        "  layer.trainable = False"
      ],
      "metadata": {
        "id": "TIKsPmOvGy5v"
      },
      "execution_count": null,
      "outputs": []
    },
    {
      "cell_type": "code",
      "source": [
        "x = Flatten()(vgg.output)\n",
        "# x = Dense(1000, activation='relu')(x)\n",
        "prediction = Dense(7, activation='softmax')(x)"
      ],
      "metadata": {
        "id": "ZAM2bU8FG1Vn"
      },
      "execution_count": null,
      "outputs": []
    },
    {
      "cell_type": "code",
      "source": [
        "model = Model(inputs=vgg.input, outputs=prediction)"
      ],
      "metadata": {
        "id": "tElIMPxPG4CP"
      },
      "execution_count": null,
      "outputs": []
    },
    {
      "cell_type": "code",
      "source": [
        "# compiling the model\n",
        "model.compile(\n",
        "  loss='categorical_crossentropy',\n",
        "  optimizer='adam',\n",
        "  metrics=['accuracy']\n",
        ")"
      ],
      "metadata": {
        "id": "izxDg8WnG63B"
      },
      "execution_count": null,
      "outputs": []
    },
    {
      "cell_type": "code",
      "source": [
        "#model summary\n",
        "model.summary()"
      ],
      "metadata": {
        "id": "sNyd_4KnG9-8"
      },
      "execution_count": null,
      "outputs": []
    },
    {
      "cell_type": "code",
      "source": [
        "# save model details in png format\n",
        "utils.plot_model(model, to_file='emotion-model_vgg16.png', show_shapes=True, show_layer_names=True)"
      ],
      "metadata": {
        "id": "MGzK0dWiHAZe"
      },
      "execution_count": null,
      "outputs": []
    },
    {
      "cell_type": "code",
      "source": [
        "epochs=50\n",
        "steps_per_epoch=train_generator.n//train_generator.batch_size\n",
        "steps_per_epoch"
      ],
      "metadata": {
        "id": "sHb4SEyQHGfu"
      },
      "execution_count": null,
      "outputs": []
    },
    {
      "cell_type": "code",
      "source": [
        "# this decreases the learning rate if the model loss does not decrease \n",
        "reduce_lr = ReduceLROnPlateau(monitor='val_loss', factor=0.1,\n",
        "                              patience=10, min_lr=0.00001, mode='auto')\n",
        "# to save model weights \n",
        "checkpoint = ModelCheckpoint(\"vgg16_weights.h5\", monitor='val_accuracy',\n",
        "                             save_weights_only=True, mode='max', verbose=1)\n",
        "# to early stop\n",
        "early_stopping=EarlyStopping(monitor='val_loss',\n",
        "                            min_delta=0,\n",
        "                            patience=10,\n",
        "                            verbose=1,\n",
        "                            restore_best_weights=True)\n",
        "callbacks = [checkpoint, reduce_lr,early_stopping]"
      ],
      "metadata": {
        "id": "RyyZFpZPHJwU"
      },
      "execution_count": null,
      "outputs": []
    },
    {
      "cell_type": "code",
      "source": [
        "# Fitting the model \n",
        "history = model.fit(\n",
        "    x=train_generator,\n",
        "    batch_size=batch_size,\n",
        "    epochs=epochs,\n",
        "    validation_data = validation_generator,\n",
        "    callbacks=callbacks,\n",
        "    verbose=1)"
      ],
      "metadata": {
        "id": "PhjzJoT3HMRw"
      },
      "execution_count": null,
      "outputs": []
    },
    {
      "cell_type": "code",
      "source": [
        "model.save('model.h5')"
      ],
      "metadata": {
        "id": "-hVbvxeDpdF4"
      },
      "execution_count": null,
      "outputs": []
    },
    {
      "cell_type": "code",
      "source": [
        "#loading the model\n",
        "model_emo = load_model('/content/drive/MyDrive/Real-Time-Facial-Expression-recognition/model (1).h5')"
      ],
      "metadata": {
        "id": "bFyKhZdfpmHk"
      },
      "execution_count": null,
      "outputs": []
    }
  ],
  "metadata": {
    "colab": {
      "collapsed_sections": [],
      "name": "Vikramaditya Sah-Real-Time-Facial-Expression-recognition.ipynb",
      "provenance": [],
      "private_outputs": true,
      "include_colab_link": true
    },
    "kernelspec": {
      "display_name": "Python 3",
      "name": "python3"
    },
    "language_info": {
      "name": "python"
    },
    "accelerator": "GPU"
  },
  "nbformat": 4,
  "nbformat_minor": 0
}